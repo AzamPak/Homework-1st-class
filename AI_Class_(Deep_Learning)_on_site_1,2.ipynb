{
  "nbformat": 4,
  "nbformat_minor": 0,
  "metadata": {
    "colab": {
      "name": "AI Class (Deep Learning) on site  1,2",
      "provenance": [],
      "authorship_tag": "ABX9TyP2PTnMuKAdh2npWmjgZ31W",
      "include_colab_link": true
    },
    "kernelspec": {
      "name": "python3",
      "display_name": "Python 3"
    },
    "language_info": {
      "name": "python"
    }
  },
  "cells": [
    {
      "cell_type": "markdown",
      "metadata": {
        "id": "view-in-github",
        "colab_type": "text"
      },
      "source": [
        "<a href=\"https://colab.research.google.com/github/AzamPak/Homework-1st-class/blob/main/AI_Class_(Deep_Learning)_on_site_1%2C2.ipynb\" target=\"_parent\"><img src=\"https://colab.research.google.com/assets/colab-badge.svg\" alt=\"Open In Colab\"/></a>"
      ]
    },
    {
      "cell_type": "code",
      "metadata": {
        "id": "bTV9KDRVeKkf"
      },
      "source": [
        "import tensorflow"
      ],
      "execution_count": 1,
      "outputs": []
    },
    {
      "cell_type": "code",
      "metadata": {
        "id": "ALXQYAhiewiG"
      },
      "source": [
        "import keras"
      ],
      "execution_count": 2,
      "outputs": []
    },
    {
      "cell_type": "code",
      "metadata": {
        "id": "VrduBYacezMG"
      },
      "source": [
        "import numpy as np"
      ],
      "execution_count": 3,
      "outputs": []
    },
    {
      "cell_type": "code",
      "metadata": {
        "id": "DYL6zQpSe3nO"
      },
      "source": [
        "x = np.array([2.0,3.0,4.0,5.0,6.0,7.0,8.0,9.0,10.0,11.0,12.0,13.0,14.0,15.0],dtype=float)\n",
        "y = np.array([4.0,9.0,16.0,25.0,36.0,49.0,64.0,81.0,100.0,121.0,144.0,169.0,196.0,225.0],dtype=float)"
      ],
      "execution_count": 18,
      "outputs": []
    },
    {
      "cell_type": "code",
      "metadata": {
        "id": "teBwiNQ4hMB_"
      },
      "source": [
        "model = keras.Sequential([keras.layers.Dense(units=1,input_shape=[1])])"
      ],
      "execution_count": 19,
      "outputs": []
    },
    {
      "cell_type": "code",
      "metadata": {
        "id": "9quDKpX0iOIv"
      },
      "source": [
        "model.compile(optimizer='sgd', loss='mean_squared_error')"
      ],
      "execution_count": 20,
      "outputs": []
    },
    {
      "cell_type": "code",
      "metadata": {
        "colab": {
          "base_uri": "https://localhost:8080/"
        },
        "id": "D9yNP1i7iZmO",
        "outputId": "dbd63a5d-5916-4c4c-e582-c5b04b178d4f"
      },
      "source": [
        "model.fit(x, y,epochs=100)"
      ],
      "execution_count": 22,
      "outputs": [
        {
          "output_type": "stream",
          "name": "stdout",
          "text": [
            "Epoch 1/100\n",
            "1/1 [==============================] - 0s 5ms/step - loss: 208.4061\n",
            "Epoch 2/100\n",
            "1/1 [==============================] - 0s 7ms/step - loss: 208.4032\n",
            "Epoch 3/100\n",
            "1/1 [==============================] - 0s 10ms/step - loss: 208.4002\n",
            "Epoch 4/100\n",
            "1/1 [==============================] - 0s 7ms/step - loss: 208.3973\n",
            "Epoch 5/100\n",
            "1/1 [==============================] - 0s 5ms/step - loss: 208.3945\n",
            "Epoch 6/100\n",
            "1/1 [==============================] - 0s 4ms/step - loss: 208.3916\n",
            "Epoch 7/100\n",
            "1/1 [==============================] - 0s 4ms/step - loss: 208.3888\n",
            "Epoch 8/100\n",
            "1/1 [==============================] - 0s 4ms/step - loss: 208.3860\n",
            "Epoch 9/100\n",
            "1/1 [==============================] - 0s 4ms/step - loss: 208.3832\n",
            "Epoch 10/100\n",
            "1/1 [==============================] - 0s 4ms/step - loss: 208.3804\n",
            "Epoch 11/100\n",
            "1/1 [==============================] - 0s 4ms/step - loss: 208.3777\n",
            "Epoch 12/100\n",
            "1/1 [==============================] - 0s 5ms/step - loss: 208.3748\n",
            "Epoch 13/100\n",
            "1/1 [==============================] - 0s 4ms/step - loss: 208.3722\n",
            "Epoch 14/100\n",
            "1/1 [==============================] - 0s 4ms/step - loss: 208.3694\n",
            "Epoch 15/100\n",
            "1/1 [==============================] - 0s 5ms/step - loss: 208.3667\n",
            "Epoch 16/100\n",
            "1/1 [==============================] - 0s 5ms/step - loss: 208.3640\n",
            "Epoch 17/100\n",
            "1/1 [==============================] - 0s 6ms/step - loss: 208.3615\n",
            "Epoch 18/100\n",
            "1/1 [==============================] - 0s 4ms/step - loss: 208.3589\n",
            "Epoch 19/100\n",
            "1/1 [==============================] - 0s 4ms/step - loss: 208.3562\n",
            "Epoch 20/100\n",
            "1/1 [==============================] - 0s 7ms/step - loss: 208.3537\n",
            "Epoch 21/100\n",
            "1/1 [==============================] - 0s 6ms/step - loss: 208.3511\n",
            "Epoch 22/100\n",
            "1/1 [==============================] - 0s 8ms/step - loss: 208.3485\n",
            "Epoch 23/100\n",
            "1/1 [==============================] - 0s 6ms/step - loss: 208.3460\n",
            "Epoch 24/100\n",
            "1/1 [==============================] - 0s 5ms/step - loss: 208.3435\n",
            "Epoch 25/100\n",
            "1/1 [==============================] - 0s 7ms/step - loss: 208.3410\n",
            "Epoch 26/100\n",
            "1/1 [==============================] - 0s 7ms/step - loss: 208.3385\n",
            "Epoch 27/100\n",
            "1/1 [==============================] - 0s 5ms/step - loss: 208.3360\n",
            "Epoch 28/100\n",
            "1/1 [==============================] - 0s 6ms/step - loss: 208.3335\n",
            "Epoch 29/100\n",
            "1/1 [==============================] - 0s 4ms/step - loss: 208.3312\n",
            "Epoch 30/100\n",
            "1/1 [==============================] - 0s 4ms/step - loss: 208.3288\n",
            "Epoch 31/100\n",
            "1/1 [==============================] - 0s 7ms/step - loss: 208.3264\n",
            "Epoch 32/100\n",
            "1/1 [==============================] - 0s 9ms/step - loss: 208.3241\n",
            "Epoch 33/100\n",
            "1/1 [==============================] - 0s 9ms/step - loss: 208.3217\n",
            "Epoch 34/100\n",
            "1/1 [==============================] - 0s 6ms/step - loss: 208.3193\n",
            "Epoch 35/100\n",
            "1/1 [==============================] - 0s 4ms/step - loss: 208.3170\n",
            "Epoch 36/100\n",
            "1/1 [==============================] - 0s 27ms/step - loss: 208.3147\n",
            "Epoch 37/100\n",
            "1/1 [==============================] - 0s 6ms/step - loss: 208.3124\n",
            "Epoch 38/100\n",
            "1/1 [==============================] - 0s 5ms/step - loss: 208.3102\n",
            "Epoch 39/100\n",
            "1/1 [==============================] - 0s 10ms/step - loss: 208.3079\n",
            "Epoch 40/100\n",
            "1/1 [==============================] - 0s 7ms/step - loss: 208.3056\n",
            "Epoch 41/100\n",
            "1/1 [==============================] - 0s 5ms/step - loss: 208.3035\n",
            "Epoch 42/100\n",
            "1/1 [==============================] - 0s 5ms/step - loss: 208.3012\n",
            "Epoch 43/100\n",
            "1/1 [==============================] - 0s 6ms/step - loss: 208.2991\n",
            "Epoch 44/100\n",
            "1/1 [==============================] - 0s 6ms/step - loss: 208.2968\n",
            "Epoch 45/100\n",
            "1/1 [==============================] - 0s 5ms/step - loss: 208.2947\n",
            "Epoch 46/100\n",
            "1/1 [==============================] - 0s 5ms/step - loss: 208.2925\n",
            "Epoch 47/100\n",
            "1/1 [==============================] - 0s 5ms/step - loss: 208.2904\n",
            "Epoch 48/100\n",
            "1/1 [==============================] - 0s 7ms/step - loss: 208.2883\n",
            "Epoch 49/100\n",
            "1/1 [==============================] - 0s 6ms/step - loss: 208.2862\n",
            "Epoch 50/100\n",
            "1/1 [==============================] - 0s 6ms/step - loss: 208.2842\n",
            "Epoch 51/100\n",
            "1/1 [==============================] - 0s 7ms/step - loss: 208.2821\n",
            "Epoch 52/100\n",
            "1/1 [==============================] - 0s 20ms/step - loss: 208.2800\n",
            "Epoch 53/100\n",
            "1/1 [==============================] - 0s 4ms/step - loss: 208.2780\n",
            "Epoch 54/100\n",
            "1/1 [==============================] - 0s 10ms/step - loss: 208.2759\n",
            "Epoch 55/100\n",
            "1/1 [==============================] - 0s 9ms/step - loss: 208.2740\n",
            "Epoch 56/100\n",
            "1/1 [==============================] - 0s 12ms/step - loss: 208.2720\n",
            "Epoch 57/100\n",
            "1/1 [==============================] - 0s 10ms/step - loss: 208.2700\n",
            "Epoch 58/100\n",
            "1/1 [==============================] - 0s 10ms/step - loss: 208.2681\n",
            "Epoch 59/100\n",
            "1/1 [==============================] - 0s 5ms/step - loss: 208.2662\n",
            "Epoch 60/100\n",
            "1/1 [==============================] - 0s 7ms/step - loss: 208.2642\n",
            "Epoch 61/100\n",
            "1/1 [==============================] - 0s 10ms/step - loss: 208.2623\n",
            "Epoch 62/100\n",
            "1/1 [==============================] - 0s 17ms/step - loss: 208.2604\n",
            "Epoch 63/100\n",
            "1/1 [==============================] - 0s 7ms/step - loss: 208.2585\n",
            "Epoch 64/100\n",
            "1/1 [==============================] - 0s 4ms/step - loss: 208.2566\n",
            "Epoch 65/100\n",
            "1/1 [==============================] - 0s 9ms/step - loss: 208.2547\n",
            "Epoch 66/100\n",
            "1/1 [==============================] - 0s 4ms/step - loss: 208.2528\n",
            "Epoch 67/100\n",
            "1/1 [==============================] - 0s 6ms/step - loss: 208.2511\n",
            "Epoch 68/100\n",
            "1/1 [==============================] - 0s 4ms/step - loss: 208.2492\n",
            "Epoch 69/100\n",
            "1/1 [==============================] - 0s 7ms/step - loss: 208.2475\n",
            "Epoch 70/100\n",
            "1/1 [==============================] - 0s 7ms/step - loss: 208.2456\n",
            "Epoch 71/100\n",
            "1/1 [==============================] - 0s 6ms/step - loss: 208.2439\n",
            "Epoch 72/100\n",
            "1/1 [==============================] - 0s 8ms/step - loss: 208.2420\n",
            "Epoch 73/100\n",
            "1/1 [==============================] - 0s 14ms/step - loss: 208.2403\n",
            "Epoch 74/100\n",
            "1/1 [==============================] - 0s 5ms/step - loss: 208.2386\n",
            "Epoch 75/100\n",
            "1/1 [==============================] - 0s 8ms/step - loss: 208.2368\n",
            "Epoch 76/100\n",
            "1/1 [==============================] - 0s 10ms/step - loss: 208.2351\n",
            "Epoch 77/100\n",
            "1/1 [==============================] - 0s 10ms/step - loss: 208.2334\n",
            "Epoch 78/100\n",
            "1/1 [==============================] - 0s 6ms/step - loss: 208.2317\n",
            "Epoch 79/100\n",
            "1/1 [==============================] - 0s 8ms/step - loss: 208.2301\n",
            "Epoch 80/100\n",
            "1/1 [==============================] - 0s 5ms/step - loss: 208.2283\n",
            "Epoch 81/100\n",
            "1/1 [==============================] - 0s 5ms/step - loss: 208.2267\n",
            "Epoch 82/100\n",
            "1/1 [==============================] - 0s 4ms/step - loss: 208.2251\n",
            "Epoch 83/100\n",
            "1/1 [==============================] - 0s 7ms/step - loss: 208.2234\n",
            "Epoch 84/100\n",
            "1/1 [==============================] - 0s 6ms/step - loss: 208.2217\n",
            "Epoch 85/100\n",
            "1/1 [==============================] - 0s 8ms/step - loss: 208.2201\n",
            "Epoch 86/100\n",
            "1/1 [==============================] - 0s 5ms/step - loss: 208.2186\n",
            "Epoch 87/100\n",
            "1/1 [==============================] - 0s 5ms/step - loss: 208.2170\n",
            "Epoch 88/100\n",
            "1/1 [==============================] - 0s 5ms/step - loss: 208.2154\n",
            "Epoch 89/100\n",
            "1/1 [==============================] - 0s 3ms/step - loss: 208.2138\n",
            "Epoch 90/100\n",
            "1/1 [==============================] - 0s 6ms/step - loss: 208.2122\n",
            "Epoch 91/100\n",
            "1/1 [==============================] - 0s 5ms/step - loss: 208.2108\n",
            "Epoch 92/100\n",
            "1/1 [==============================] - 0s 4ms/step - loss: 208.2092\n",
            "Epoch 93/100\n",
            "1/1 [==============================] - 0s 5ms/step - loss: 208.2077\n",
            "Epoch 94/100\n",
            "1/1 [==============================] - 0s 6ms/step - loss: 208.2062\n",
            "Epoch 95/100\n",
            "1/1 [==============================] - 0s 5ms/step - loss: 208.2047\n",
            "Epoch 96/100\n",
            "1/1 [==============================] - 0s 7ms/step - loss: 208.2032\n",
            "Epoch 97/100\n",
            "1/1 [==============================] - 0s 9ms/step - loss: 208.2017\n",
            "Epoch 98/100\n",
            "1/1 [==============================] - 0s 11ms/step - loss: 208.2002\n",
            "Epoch 99/100\n",
            "1/1 [==============================] - 0s 6ms/step - loss: 208.1988\n",
            "Epoch 100/100\n",
            "1/1 [==============================] - 0s 6ms/step - loss: 208.1974\n"
          ]
        },
        {
          "output_type": "execute_result",
          "data": {
            "text/plain": [
              "<keras.callbacks.History at 0x7fd6973b8350>"
            ]
          },
          "metadata": {},
          "execution_count": 22
        }
      ]
    },
    {
      "cell_type": "code",
      "metadata": {
        "colab": {
          "base_uri": "https://localhost:8080/"
        },
        "id": "hkQ4NNjWih-O",
        "outputId": "3d62c2de-61ff-479c-df1f-b6b6f6f403c2"
      },
      "source": [
        "model.predict([2])"
      ],
      "execution_count": 23,
      "outputs": [
        {
          "output_type": "execute_result",
          "data": {
            "text/plain": [
              "array([[-21.165867]], dtype=float32)"
            ]
          },
          "metadata": {},
          "execution_count": 23
        }
      ]
    },
    {
      "cell_type": "code",
      "metadata": {
        "id": "5WiSbsZhjBUh"
      },
      "source": [
        ""
      ],
      "execution_count": null,
      "outputs": []
    }
  ]
}