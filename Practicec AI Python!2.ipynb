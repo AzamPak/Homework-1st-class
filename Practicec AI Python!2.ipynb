{
 "cells": [
  {
   "cell_type": "code",
   "execution_count": 16,
   "id": "b8b931ec",
   "metadata": {},
   "outputs": [
    {
     "name": "stdout",
     "output_type": "stream",
     "text": [
      "Username Assigned Succesfully\n"
     ]
    }
   ],
   "source": [
    "if Username == \"Azam\":\n",
    "    print(\"Username Assigned Succesfully\")"
   ]
  },
  {
   "cell_type": "code",
   "execution_count": 20,
   "id": "a97398bc",
   "metadata": {},
   "outputs": [
    {
     "name": "stdout",
     "output_type": "stream",
     "text": [
      "Login successfull\n"
     ]
    }
   ],
   "source": [
    "if (Username == \"Azam\" and Password == \"Azam123\"):\n",
    "    print(\"Login successfull\")"
   ]
  },
  {
   "cell_type": "code",
   "execution_count": 26,
   "id": "0f2c222f",
   "metadata": {},
   "outputs": [
    {
     "name": "stdout",
     "output_type": "stream",
     "text": [
      "error\n"
     ]
    }
   ],
   "source": [
    "num1 = 10\n",
    "num2 = 15\n",
    "if num2 < num1:\n",
    "    print(\"greator\")\n",
    "else:\n",
    "    print(\"error\")"
   ]
  },
  {
   "cell_type": "code",
   "execution_count": 28,
   "id": "0bd7d840",
   "metadata": {},
   "outputs": [
    {
     "name": "stdout",
     "output_type": "stream",
     "text": [
      "not equal\n"
     ]
    }
   ],
   "source": [
    "if 1 + 1!= 3:\n",
    "    print(\"not equal\")\n",
    "    "
   ]
  },
  {
   "cell_type": "code",
   "execution_count": 39,
   "id": "20f748af",
   "metadata": {},
   "outputs": [
    {
     "name": "stdout",
     "output_type": "stream",
     "text": [
      "So far so good.\n",
      "Congratulations.\n",
      "All done\n"
     ]
    }
   ],
   "source": [
    "number_of_husbands = 1\n",
    "if number_of_husbands == 1:\n",
    "    print(\"So far so good.\")\n",
    "    print(\"Congratulations.\")\n",
    "    print(\"All done\")"
   ]
  },
  {
   "cell_type": "code",
   "execution_count": 41,
   "id": "803307b7",
   "metadata": {},
   "outputs": [],
   "source": [
    "species = \"lion\""
   ]
  },
  {
   "cell_type": "code",
   "execution_count": 42,
   "id": "14cb257b",
   "metadata": {},
   "outputs": [
    {
     "name": "stdout",
     "output_type": "stream",
     "text": [
      "animal\n"
     ]
    }
   ],
   "source": [
    "if species == \"lion\":\n",
    "    print(\"animal\")\n",
    "if species != \"lion\":\n",
    "    print(\"notanimal\")\n"
   ]
  },
  {
   "cell_type": "code",
   "execution_count": 44,
   "id": "c15396de",
   "metadata": {},
   "outputs": [
    {
     "name": "stdout",
     "output_type": "stream",
     "text": [
      "notanimal\n"
     ]
    }
   ],
   "source": [
    "if species == \"lio\":\n",
    "    print(\"animal\")\n",
    "else:\n",
    "    print(\"notanimal\")\n"
   ]
  },
  {
   "cell_type": "code",
   "execution_count": 47,
   "id": "e34087bc",
   "metadata": {},
   "outputs": [],
   "source": [
    "buy_score = 0"
   ]
  },
  {
   "cell_type": "code",
   "execution_count": 54,
   "id": "b78519fa",
   "metadata": {},
   "outputs": [],
   "source": [
    "donut_condition = \"fresh\"\n",
    "donut_filling = \"chocolate\"\n",
    "donut_price = \"reasonable\"\n",
    "if donut_condition == \"fresh\":\n",
    "    buy_score += 10\n",
    "if donut_filling == \"chocolate\":\n",
    "        buy_score += 5\n",
    "if donut_price == \"reasonable\":\n",
    "           buy_score += 7"
   ]
  },
  {
   "cell_type": "code",
   "execution_count": 57,
   "id": "034830e7",
   "metadata": {},
   "outputs": [
    {
     "name": "stdout",
     "output_type": "stream",
     "text": [
      "freshchocolatereasonable\n"
     ]
    }
   ],
   "source": [
    "print(donut_condition + donut_filling + donut_price)"
   ]
  },
  {
   "cell_type": "code",
   "execution_count": 65,
   "id": "84fd6501",
   "metadata": {},
   "outputs": [],
   "source": [
    "#hello testing comment\n"
   ]
  },
  {
   "cell_type": "code",
   "execution_count": 69,
   "id": "64816a3a",
   "metadata": {},
   "outputs": [
    {
     "data": {
      "text/plain": [
       "'testing comment'"
      ]
     },
     "execution_count": 69,
     "metadata": {},
     "output_type": "execute_result"
    }
   ],
   "source": [
    "'''testing comment'''"
   ]
  },
  {
   "cell_type": "code",
   "execution_count": null,
   "id": "d8d81eb8",
   "metadata": {},
   "outputs": [],
   "source": []
  }
 ],
 "metadata": {
  "kernelspec": {
   "display_name": "Python 3",
   "language": "python",
   "name": "python3"
  },
  "language_info": {
   "codemirror_mode": {
    "name": "ipython",
    "version": 3
   },
   "file_extension": ".py",
   "mimetype": "text/x-python",
   "name": "python",
   "nbconvert_exporter": "python",
   "pygments_lexer": "ipython3",
   "version": "3.8.8"
  }
 },
 "nbformat": 4,
 "nbformat_minor": 5
}
