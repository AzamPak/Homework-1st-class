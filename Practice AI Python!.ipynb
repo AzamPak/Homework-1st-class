{
 "cells": [
  {
   "cell_type": "code",
   "execution_count": 1,
   "id": "a12da6e8",
   "metadata": {},
   "outputs": [
    {
     "name": "stdout",
     "output_type": "stream",
     "text": [
      "Hola\n"
     ]
    }
   ],
   "source": [
    "print (\"Hola\")"
   ]
  },
  {
   "cell_type": "code",
   "execution_count": 2,
   "id": "34586b58",
   "metadata": {},
   "outputs": [],
   "source": [
    "My_name = \"Azam\""
   ]
  },
  {
   "cell_type": "code",
   "execution_count": 9,
   "id": "26842aab",
   "metadata": {},
   "outputs": [],
   "source": [
    "Father_name = \"Abdul Qadir\""
   ]
  },
  {
   "cell_type": "code",
   "execution_count": 10,
   "id": "1c2b3c49",
   "metadata": {},
   "outputs": [],
   "source": [
    "Name = My_name + \" \" + Father_name"
   ]
  },
  {
   "cell_type": "code",
   "execution_count": 11,
   "id": "b9c8b537",
   "metadata": {},
   "outputs": [
    {
     "name": "stdout",
     "output_type": "stream",
     "text": [
      "Azam Abdul Qadir\n"
     ]
    }
   ],
   "source": [
    "print (Name)"
   ]
  },
  {
   "cell_type": "code",
   "execution_count": 19,
   "id": "de4963e8",
   "metadata": {},
   "outputs": [
    {
     "name": "stdout",
     "output_type": "stream",
     "text": [
      "50\n"
     ]
    }
   ],
   "source": [
    "x = 5\n",
    "y = 10\n",
    "result = x * y\n",
    "print (result)"
   ]
  },
  {
   "cell_type": "code",
   "execution_count": 20,
   "id": "452fe0f9",
   "metadata": {},
   "outputs": [],
   "source": [
    "Earth = \"Hello,\" + \"World\""
   ]
  },
  {
   "cell_type": "code",
   "execution_count": 21,
   "id": "4d062665",
   "metadata": {},
   "outputs": [
    {
     "name": "stdout",
     "output_type": "stream",
     "text": [
      "Hello,World\n"
     ]
    }
   ],
   "source": [
    "print (Earth)"
   ]
  },
  {
   "cell_type": "code",
   "execution_count": 23,
   "id": "afa64ed8",
   "metadata": {},
   "outputs": [],
   "source": [
    "Babu_weight = 60\n",
    "Ladla_weight = 85\n",
    "Palwan_weight = 120\n",
    "Total_weight = Babu_weight + Ladla_weight + Palwan_weight"
   ]
  },
  {
   "cell_type": "code",
   "execution_count": 24,
   "id": "68e6e2b2",
   "metadata": {},
   "outputs": [
    {
     "name": "stdout",
     "output_type": "stream",
     "text": [
      "265\n"
     ]
    }
   ],
   "source": [
    "print (Total_weight)"
   ]
  },
  {
   "cell_type": "code",
   "execution_count": 38,
   "id": "4c71d6ca",
   "metadata": {},
   "outputs": [],
   "source": [
    "x = ((30 * 50) - 25)"
   ]
  },
  {
   "cell_type": "code",
   "execution_count": 39,
   "id": "cf4144d1",
   "metadata": {},
   "outputs": [
    {
     "name": "stdout",
     "output_type": "stream",
     "text": [
      "1475\n"
     ]
    }
   ],
   "source": [
    "print (x)"
   ]
  },
  {
   "cell_type": "code",
   "execution_count": null,
   "id": "2f32a01e",
   "metadata": {},
   "outputs": [],
   "source": []
  }
 ],
 "metadata": {
  "kernelspec": {
   "display_name": "Python 3",
   "language": "python",
   "name": "python3"
  },
  "language_info": {
   "codemirror_mode": {
    "name": "ipython",
    "version": 3
   },
   "file_extension": ".py",
   "mimetype": "text/x-python",
   "name": "python",
   "nbconvert_exporter": "python",
   "pygments_lexer": "ipython3",
   "version": "3.8.8"
  }
 },
 "nbformat": 4,
 "nbformat_minor": 5
}
